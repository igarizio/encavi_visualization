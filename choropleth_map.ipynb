{
 "cells": [
  {
   "cell_type": "markdown",
   "metadata": {},
   "source": [
    "## Imports"
   ]
  },
  {
   "cell_type": "code",
   "execution_count": 1,
   "metadata": {},
   "outputs": [],
   "source": [
    "import pandas as pd\n",
    "import geopandas as gpd\n",
    "import pyreadstat  # pip install pyreadstat\n",
    "\n",
    "import folium\n",
    "from branca.colormap import LinearColormap\n",
    "\n",
    "import matplotlib.pyplot as plt\n",
    "\n",
    "from IPython.core.display import HTML"
   ]
  },
  {
   "cell_type": "markdown",
   "metadata": {},
   "source": [
    "## Data preparation"
   ]
  },
  {
   "cell_type": "markdown",
   "metadata": {},
   "source": [
    "#### Importing the data"
   ]
  },
  {
   "cell_type": "code",
   "execution_count": 2,
   "metadata": {},
   "outputs": [],
   "source": [
    "df, meta = pyreadstat.read_sav('./data/survey/ENCAVI_2015.sav', apply_value_formats=True, formats_as_category=True)\n",
    "\n",
    "regions_gid = pd.read_csv('./data/survey/region_to_GID.csv', sep=';', index_col='region_name', squeeze=True)\n",
    "question_format = pd.read_csv('./data/survey/question_format.csv', sep=';', index_col='question')"
   ]
  },
  {
   "cell_type": "markdown",
   "metadata": {},
   "source": [
    "#### Value changes"
   ]
  },
  {
   "cell_type": "code",
   "execution_count": 3,
   "metadata": {},
   "outputs": [],
   "source": [
    "# Scales\n",
    "yes_no_scale = {'Sí':1, 'No':0}\n",
    "likert_freq_scale = {'Nunca': 0, 'Casi nunca': 1, 'A veces': 2, 'Casi siempre': 3, 'Siempre': 4, 'No sabe': None, 'No responde': None}\n",
    "likert_quality_scale = {'Mala': 0, 'Regular': 1, 'Buena': 2, 'Muy buena': 3, 'Excelente': 4, 'No sabe': None, 'No responde': None}"
   ]
  },
  {
   "cell_type": "code",
   "execution_count": 4,
   "metadata": {},
   "outputs": [],
   "source": [
    "df_f = df[['Region', *question_format.index.values]].copy()\n",
    "\n",
    "df_f['GID_1'] = df_f.Region.map(regions_gid)\n",
    "\n",
    "for question in question_format[question_format.scale == 'yes_no'].index:\n",
    "    df_f[question] = df_f[question].map(yes_no_scale)\n",
    "\n",
    "for question in question_format[question_format.scale == 'likert_freq'].index:\n",
    "    df_f[question] = df_f[question].map(likert_freq_scale)\n",
    "\n",
    "for question in question_format[question_format.scale == 'likert_quality'].index:\n",
    "    df_f[question] = df_f[question].map(likert_quality_scale)\n",
    "\n",
    "df_f.rename(columns=question_format.var_name.to_dict(), inplace=True)"
   ]
  },
  {
   "cell_type": "code",
   "execution_count": 5,
   "metadata": {},
   "outputs": [],
   "source": [
    "df_f['age'] = df_f.age.astype(float)"
   ]
  },
  {
   "cell_type": "markdown",
   "metadata": {},
   "source": [
    "#### Calculating metrics"
   ]
  },
  {
   "cell_type": "code",
   "execution_count": 6,
   "metadata": {},
   "outputs": [],
   "source": [
    "df_reg = df_f.groupby('GID_1').mean()"
   ]
  },
  {
   "cell_type": "markdown",
   "metadata": {},
   "source": [
    "## Map creation"
   ]
  },
  {
   "cell_type": "code",
   "execution_count": 7,
   "metadata": {},
   "outputs": [],
   "source": [
    "chilean_map = gpd.read_file('./data/map/chilean_map.json', encoding='latin-1')\n",
    "\n",
    "gid_dict_mapping = {regions_gid['Ñuble']: regions_gid['Biobío']}  # When the survey was conducted Ñuble was part of Biobío\n",
    "chilean_map.GID_1.replace(gid_dict_mapping, inplace=True)\n",
    "\n",
    "chilean_map = chilean_map.merge(df_reg, on='GID_1')"
   ]
  },
  {
   "cell_type": "code",
   "execution_count": 8,
   "metadata": {},
   "outputs": [],
   "source": [
    "def create_map(gdf, color_column, tooltip_columns=None):\n",
    "    tooltip_columns = tooltip_columns if tooltip_columns else ['NAME_1', color_column]\n",
    "    \n",
    "    is_good_indicator = question_format[question_format.var_name == color_column].good_indicator.iloc[0]\n",
    "    if is_good_indicator:\n",
    "        color_scale = LinearColormap(['yellow','green'], vmin=chilean_map[color_column].min(), vmax=chilean_map[color_column].max())\n",
    "    else:\n",
    "        color_scale = LinearColormap(['yellow','red'], vmin=chilean_map[color_column].min(), vmax=chilean_map[color_column].max())\n",
    "\n",
    "    m = folium.Map(\n",
    "    location = [-39.5, -60], \n",
    "    zoom_start = 4,\n",
    "    )\n",
    "    \n",
    "    folium.GeoJson(\n",
    "        data = gdf.to_json(),\n",
    "        style_function = lambda feature: {\n",
    "            'fillColor': color_scale(feature['properties'][color_column]),\n",
    "            'fillOpacity': 0.65,\n",
    "            'color' : 'black',\n",
    "            'weight' : 1.5,\n",
    "        },\n",
    "        highlight_function = lambda x: {\"weight\": 1,'fillOpacity': 1},\n",
    "        tooltip = folium.features.GeoJsonTooltip(fields=tooltip_columns, labels=False, sticky=False)\n",
    "    ).add_to(m)\n",
    "    \n",
    "    return m"
   ]
  },
  {
   "cell_type": "markdown",
   "metadata": {},
   "source": [
    "#### Ploting two maps side-by-side"
   ]
  },
  {
   "cell_type": "code",
   "execution_count": 9,
   "metadata": {},
   "outputs": [],
   "source": [
    "html_template = open('./data/display/map_disp_template.html').read()\n",
    "\n",
    "def plot_maps(map_1, map_2, title_1, title_2, correlation=None):\n",
    "    map_file_1 = './data/generated/map_1.html'\n",
    "    map_file_2 = './data/generated/map_2.html'\n",
    "    \n",
    "    map_1.save(map_file_1)\n",
    "    map_2.save(map_file_2)\n",
    "    \n",
    "    correlation_txt = \"(correlation between variables {0:.2f})\".format(correlation) if correlation else \"\"\n",
    "    \n",
    "    disp_html = html_template.format(map_file_1=map_file_1, map_file_2=map_file_2, title_1=title_1, title_2=title_2, correlation_txt=correlation_txt)\n",
    "    display(HTML(disp_html))"
   ]
  },
  {
   "cell_type": "markdown",
   "metadata": {},
   "source": [
    "### Suggesting variables"
   ]
  },
  {
   "cell_type": "code",
   "execution_count": 10,
   "metadata": {},
   "outputs": [],
   "source": [
    "def get_most_correlated(df, original_variable, correlation='positive'):\n",
    "    corr_values = df.corr()[original_variable].drop(original_variable)\n",
    "    \n",
    "    if correlation == 'positive':\n",
    "        return corr_values.idxmax()\n",
    "    elif correlation == 'negative':\n",
    "        return corr_values.idxmin()\n",
    "    elif correlation == 'absolute':\n",
    "        return corr_values.abs().idxmax()\n",
    "    else:\n",
    "        raise ValueError('Invalid correlation selector.')"
   ]
  },
  {
   "cell_type": "markdown",
   "metadata": {},
   "source": [
    "## Visualizing"
   ]
  },
  {
   "cell_type": "code",
   "execution_count": 11,
   "metadata": {
    "scrolled": false
   },
   "outputs": [
    {
     "data": {
      "text/html": [
       "<div style=\"width: 49%; float: left;\" height=\"10\" width=\"49%\" align=\"center\">has_hypertension</div>\n",
       "<div style=\"overflow: hidden; width: 49%;\" height=\"10\"  width=\"49%\" align=\"center\">good_health</div>\n",
       "<center>(correlation between variables -0.36)</center><br>\n",
       "<iframe src=\"././data/generated/map_1.html\" frameborder=\"0\" scrolling=\"no\" style=\"width: 49%; float: left; \"height=\"600px\" width=\"49%\" align=\"left\"></iframe>  \n",
       "<iframe src=\"././data/generated/map_2.html\" frameborder=\"0\" scrolling=\"no\" style=\"overflow: hidden; width: 49%; \" height=\"600px%\" width=\"49%\" align=\"right\"></iframe>"
      ],
      "text/plain": [
       "<IPython.core.display.HTML object>"
      ]
     },
     "metadata": {},
     "output_type": "display_data"
    }
   ],
   "source": [
    "variable_1 = 'has_hypertension'\n",
    "variable_2 = get_most_correlated(df_f, variable_1, correlation='negative')\n",
    "\n",
    "map_1 = create_map(chilean_map, variable_1)\n",
    "map_2 = create_map(chilean_map, variable_2)\n",
    "\n",
    "correlation = df_f[[variable_1, variable_2]].corr().iloc[1, 0]\n",
    "\n",
    "plot_maps(map_1, map_2, variable_1, variable_2, correlation)"
   ]
  }
 ],
 "metadata": {
  "kernelspec": {
   "display_name": "Python 3",
   "language": "python",
   "name": "python3"
  },
  "language_info": {
   "codemirror_mode": {
    "name": "ipython",
    "version": 3
   },
   "file_extension": ".py",
   "mimetype": "text/x-python",
   "name": "python",
   "nbconvert_exporter": "python",
   "pygments_lexer": "ipython3",
   "version": "3.6.6"
  }
 },
 "nbformat": 4,
 "nbformat_minor": 2
}
